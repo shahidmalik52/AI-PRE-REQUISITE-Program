{
 "cells": [
  {
   "cell_type": "code",
   "execution_count": 1,
   "metadata": {},
   "outputs": [],
   "source": [
    "name = 'Shahid'"
   ]
  },
  {
   "cell_type": "markdown",
   "metadata": {},
   "source": [
    "**count( ) counts the number of occurances of the element in the sequence.**\n",
    "\n",
    "- It's working is case sensitive"
   ]
  },
  {
   "cell_type": "code",
   "execution_count": 2,
   "metadata": {},
   "outputs": [
    {
     "data": {
      "text/plain": [
       "1"
      ]
     },
     "execution_count": 2,
     "metadata": {},
     "output_type": "execute_result"
    }
   ],
   "source": [
    "name.count('a')"
   ]
  },
  {
   "cell_type": "code",
   "execution_count": 5,
   "metadata": {},
   "outputs": [
    {
     "data": {
      "text/plain": [
       "2"
      ]
     },
     "execution_count": 5,
     "metadata": {},
     "output_type": "execute_result"
    }
   ],
   "source": [
    "sentence = 'This is day 7 class'\n",
    "sentence.count('is')        # This counnted the num of occurences of 'is'"
   ]
  },
  {
   "cell_type": "code",
   "execution_count": 8,
   "metadata": {},
   "outputs": [
    {
     "name": "stdout",
     "output_type": "stream",
     "text": [
      "4\n",
      "0\n",
      "0\n"
     ]
    }
   ],
   "source": [
    "# sentence = 'This is day 7 class'\n",
    "print(sentence.count('s'))\n",
    "print(sentence.count('sa'))         # resulted in 0 because there is no occurence of 'sa' as combined\n"
   ]
  },
  {
   "cell_type": "code",
   "execution_count": 17,
   "metadata": {},
   "outputs": [
    {
     "name": "stdout",
     "output_type": "stream",
     "text": [
      "1\n",
      "3\n"
     ]
    }
   ],
   "source": [
    "sentence2 = 'My name is Shahid, and this is day 7 of my AI Pre-requsite class'\n",
    "print(sentence2.count('my'))       # resulted in 1 because of case sensitivness, we have 'My' and 'my' in our string\n",
    "print(sentence2.count('is'))"
   ]
  },
  {
   "cell_type": "markdown",
   "metadata": {},
   "source": [
    "- Mostly the count is used to determine the num of vowel characters in a paragraph during interview.\n",
    "- In NLP tasks, it is used to find and replace certain characters to avoid unnecessary words."
   ]
  },
  {
   "cell_type": "markdown",
   "metadata": {},
   "source": [
    "**The find( ) is used to find index of a string's first occurence**\n",
    "\n",
    "**The rfind( ) is used to find index of a string's last occurence**\n",
    "\n",
    "- Both of them return -1 when they find no occurence of the string."
   ]
  },
  {
   "cell_type": "code",
   "execution_count": 22,
   "metadata": {},
   "outputs": [
    {
     "name": "stdout",
     "output_type": "stream",
     "text": [
      "8\n",
      "28\n",
      "-1\n",
      "-1\n"
     ]
    }
   ],
   "source": [
    "print(sentence2.find('is'))        \n",
    "print(sentence2.rfind('is'))\n",
    "print(sentence2.find('Is'))\n",
    "print(sentence2.rfind('ALI'))"
   ]
  },
  {
   "cell_type": "markdown",
   "metadata": {},
   "source": [
    "**split( ) is used to split the string as per given character**"
   ]
  },
  {
   "cell_type": "code",
   "execution_count": 30,
   "metadata": {},
   "outputs": [
    {
     "name": "stdout",
     "output_type": "stream",
     "text": [
      "['My name is Shahid, and this is day 7 of my, AI Pre-requsite class']\n",
      "['My name is Shahid', ' and this is day 7 of my', ' AI Pre-requsite class']\n"
     ]
    }
   ],
   "source": [
    "sentence3 = 'My name is Shahid, and this is day 7 of my, AI Pre-requsite class'\n",
    "print(sentence3.split('.'))         # there is no '.' so it returned the list as it is\n",
    "print(sentence3.split(','))\n"
   ]
  },
  {
   "cell_type": "markdown",
   "metadata": {},
   "source": [
    "**Use of split( )**\n",
    "- Last statement is with index, that's very important"
   ]
  },
  {
   "cell_type": "code",
   "execution_count": 1,
   "metadata": {},
   "outputs": [
    {
     "name": "stdout",
     "output_type": "stream",
     "text": [
      "['rs', '450']\n",
      "['', '672']\n",
      "672\n"
     ]
    }
   ],
   "source": [
    "price1 = 'rs 450'\n",
    "price2 = 'rs 672'\n",
    "print(price1.split(' '))                # split with rs only\n",
    "print(price2.split('rs '))              # split with rs and space\n",
    "print(price2.split(' ')[1])             # using index will extract the value after space"
   ]
  },
  {
   "cell_type": "markdown",
   "metadata": {},
   "source": [
    "**join( ) is used to join list items with the specified argument like space, comma etc before its name**"
   ]
  },
  {
   "cell_type": "code",
   "execution_count": 10,
   "metadata": {},
   "outputs": [
    {
     "name": "stdout",
     "output_type": "stream",
     "text": [
      "rs 450 rs.450 rs,450 rs-450\n"
     ]
    }
   ],
   "source": [
    "price3 = price1.split(' ')\n",
    "price3_joined1 = ' '.join(price3)\n",
    "price3_joined2 = '.'.join(price3)\n",
    "price3_joined3 = ','.join(price3)\n",
    "price3_joined4 = '-'.join(price3)\n",
    "print(price3_joined1, price3_joined2, price3_joined3, price3_joined4)"
   ]
  },
  {
   "cell_type": "markdown",
   "metadata": {},
   "source": [
    "**Task during the class**\n",
    "- loops not allowed\n",
    "- split( ) and slicing is allowed"
   ]
  },
  {
   "cell_type": "code",
   "execution_count": 4,
   "metadata": {},
   "outputs": [
    {
     "data": {
      "text/plain": [
       "'dlrow olleh'"
      ]
     },
     "execution_count": 4,
     "metadata": {},
     "output_type": "execute_result"
    }
   ],
   "source": [
    "str = 'hello world'         # get 'olleh dlrow'\n",
    "str[::-1]                   # it reversed the string"
   ]
  },
  {
   "cell_type": "markdown",
   "metadata": {},
   "source": [
    "**My logic for above task**"
   ]
  },
  {
   "cell_type": "code",
   "execution_count": 6,
   "metadata": {},
   "outputs": [
    {
     "name": "stdout",
     "output_type": "stream",
     "text": [
      "olleh dlrow\n"
     ]
    }
   ],
   "source": [
    "str_split = str.split(' ')\n",
    "str1 = str_split[0]\n",
    "str1 = str1[::-1]\n",
    "str2 = str_split[1]\n",
    "str2 = str2[::-1]\n",
    "print(str1 + ' ' + str2)"
   ]
  },
  {
   "cell_type": "markdown",
   "metadata": {},
   "source": [
    "**Logic by one classfellow for above task**"
   ]
  },
  {
   "cell_type": "code",
   "execution_count": 16,
   "metadata": {},
   "outputs": [
    {
     "name": "stdout",
     "output_type": "stream",
     "text": [
      "o l l e h d l r o w\n"
     ]
    }
   ],
   "source": [
    "str = 'hello world'\n",
    "s1 = str.split(' ')[0][::-1]\n",
    "s2 = str.split(' ')[1][::-1]\n",
    "result = ' '.join(s1+s2) \n",
    "print(result)\n"
   ]
  },
  {
   "cell_type": "markdown",
   "metadata": {},
   "source": [
    "**Logic by mam for above task**"
   ]
  },
  {
   "cell_type": "code",
   "execution_count": 18,
   "metadata": {},
   "outputs": [
    {
     "name": "stdout",
     "output_type": "stream",
     "text": [
      "olleh dlrow \n"
     ]
    }
   ],
   "source": [
    "str = 'hello world'\n",
    "s11 = str[:5:][::-1]        # we can use multiple slicing for a single statement\n",
    "s12 = str[5::][::-1]\n",
    "reversed = s11 + ' ' + s12\n",
    "print(reversed)"
   ]
  },
  {
   "cell_type": "markdown",
   "metadata": {},
   "source": [
    "**startswith( ) is used to check if a string contains a certain substring.** \n",
    "- The function returns True if the substring is found, and False otherwise."
   ]
  },
  {
   "cell_type": "code",
   "execution_count": 20,
   "metadata": {},
   "outputs": [
    {
     "name": "stdout",
     "output_type": "stream",
     "text": [
      "True\n",
      "False\n",
      "False\n",
      "True\n",
      "False\n",
      "False\n"
     ]
    }
   ],
   "source": [
    "name2 = 'My name is Shahid'\n",
    "print(name2.startswith('My'))\n",
    "print(name2.startswith('Sha'))\n",
    "print(name2.startswith('my'))               # This will return False because the string has 'My'\n",
    "print(name2.lower().startswith('my'))       # This will return True because we used lower() to convert string in lowercase\n",
    "print(name2.startswith('123'))\n",
    "print(name2.startswith(' '))"
   ]
  },
  {
   "cell_type": "code",
   "execution_count": 24,
   "metadata": {},
   "outputs": [
    {
     "data": {
      "text/plain": [
       "'Shahidsomi.52@gmail.com'"
      ]
     },
     "execution_count": 24,
     "metadata": {},
     "output_type": "execute_result"
    }
   ],
   "source": [
    "'Shahidsomi.52@gmail.com'"
   ]
  },
  {
   "cell_type": "code",
   "execution_count": 25,
   "metadata": {},
   "outputs": [
    {
     "data": {
      "text/plain": [
       "'shahidsomi.52@gmail.com'"
      ]
     },
     "execution_count": 25,
     "metadata": {},
     "output_type": "execute_result"
    }
   ],
   "source": [
    "'Shahidsomi.52@gmail.com'.lower()"
   ]
  },
  {
   "cell_type": "markdown",
   "metadata": {},
   "source": [
    "**isdigit() will return True if the string is digit or not** "
   ]
  },
  {
   "cell_type": "code",
   "execution_count": 28,
   "metadata": {},
   "outputs": [
    {
     "data": {
      "text/plain": [
       "False"
      ]
     },
     "execution_count": 28,
     "metadata": {},
     "output_type": "execute_result"
    }
   ],
   "source": [
    "age = input('Enter your age: ')\n",
    "age.isdigit()"
   ]
  },
  {
   "cell_type": "markdown",
   "metadata": {},
   "source": [
    "**isalpha() will return True if all characters in the string are alphabets and there is no space or special character**"
   ]
  },
  {
   "cell_type": "code",
   "execution_count": 33,
   "metadata": {},
   "outputs": [
    {
     "name": "stdout",
     "output_type": "stream",
     "text": [
      "False\n",
      "True\n",
      "False\n",
      "False\n",
      "False\n"
     ]
    }
   ],
   "source": [
    "sample1 = 'This is sample String for checking function'\n",
    "sample2 = 'Shahid'\n",
    "sample3 = 'Sample 3'\n",
    "sample4 = '-,'\n",
    "sample5 = 'Shahid.'\n",
    "print(sample1.isalpha())\n",
    "print(sample2.isalpha())\n",
    "print(sample3.isalpha())\n",
    "print(sample4.isalpha())\n",
    "print(sample5.isalpha())"
   ]
  },
  {
   "cell_type": "markdown",
   "metadata": {},
   "source": [
    "**islower() function checks if all characters in the string are lowercase alphabetic letters**\n",
    "\n",
    "**isupper() function checks if all characters in the string are uppercase alphabetic letters**"
   ]
  },
  {
   "cell_type": "code",
   "execution_count": 35,
   "metadata": {},
   "outputs": [
    {
     "name": "stdout",
     "output_type": "stream",
     "text": [
      "False\n",
      "False\n",
      "True\n",
      "True\n"
     ]
    }
   ],
   "source": [
    "sample2 = 'Shahid'\n",
    "print(sample2.islower())\n",
    "print(sample2.isupper())\n",
    "sample3 = 'SHAHID'\n",
    "sample4 = 'shahid'\n",
    "print(sample3.isupper())\n",
    "print(sample4.islower())\n",
    "\n",
    "\n"
   ]
  },
  {
   "cell_type": "markdown",
   "metadata": {},
   "source": [
    "**isalnum() function checks if all characters in the string are either letters (a-z, A-Z) or digits (0-9).** \n",
    "\n",
    "**It returns False if the string contains spaces, special characters, or is empty.**"
   ]
  },
  {
   "cell_type": "code",
   "execution_count": 38,
   "metadata": {},
   "outputs": [
    {
     "name": "stdout",
     "output_type": "stream",
     "text": [
      "True\n",
      "True\n",
      "False\n"
     ]
    }
   ],
   "source": [
    "sample3 = 'SHAHID123'\n",
    "sample4 = 'shahid'\n",
    "sample5 = 'SHAHID 123'\n",
    "print(sample3.isalnum())\n",
    "print(sample4.isalnum())\n",
    "print(sample5.isalnum())"
   ]
  },
  {
   "cell_type": "markdown",
   "metadata": {},
   "source": [
    "**strip( ) is used to remove spaces from the string**"
   ]
  },
  {
   "cell_type": "code",
   "execution_count": 39,
   "metadata": {},
   "outputs": [
    {
     "data": {
      "text/plain": [
       "'Shahid'"
      ]
     },
     "execution_count": 39,
     "metadata": {},
     "output_type": "execute_result"
    }
   ],
   "source": [
    "name = ' Shahid '\n",
    "name.strip()"
   ]
  },
  {
   "cell_type": "markdown",
   "metadata": {},
   "source": [
    "replace( )"
   ]
  },
  {
   "cell_type": "code",
   "execution_count": 42,
   "metadata": {},
   "outputs": [
    {
     "name": "stdout",
     "output_type": "stream",
     "text": [
      "Thare are day 7 class. We are learning about string functions. The class are going good\n",
      "Th___ ___ day 7 class. We are learning about string functions. The class ___ going good\n",
      "This are day 7 class. We are learning about string functions. The class are going good\n"
     ]
    }
   ],
   "source": [
    "sentence = 'This is day 7 class. We are learning about string functions. The class is going good'\n",
    "print(sentence.replace('is','are'))\n",
    "print(sentence.replace('is','___'))\n",
    "print(sentence.replace(' is ',' are '))"
   ]
  },
  {
   "cell_type": "markdown",
   "metadata": {},
   "source": [
    "**Class task**\n",
    "- find and replace the vowel characters in the string and replace them with 'b'"
   ]
  },
  {
   "cell_type": "code",
   "execution_count": 47,
   "metadata": {},
   "outputs": [
    {
     "data": {
      "text/plain": [
       "'Thbs wbrld bs mbvbng rbbnd'"
      ]
     },
     "execution_count": 47,
     "metadata": {},
     "output_type": "execute_result"
    }
   ],
   "source": [
    "task = 'This world is moving round'\n",
    "# task.replace('a' , 'b')\n",
    "# task.replace('e' , 'b')\n",
    "# task.replace('i' , 'b')\n",
    "# task.replace('o' , 'b')\n",
    "task.replace('a' , 'b').replace('e','b').replace('i','b').replace('o','b').replace('u','b')"
   ]
  }
 ],
 "metadata": {
  "kernelspec": {
   "display_name": "Python 3",
   "language": "python",
   "name": "python3"
  },
  "language_info": {
   "codemirror_mode": {
    "name": "ipython",
    "version": 3
   },
   "file_extension": ".py",
   "mimetype": "text/x-python",
   "name": "python",
   "nbconvert_exporter": "python",
   "pygments_lexer": "ipython3",
   "version": "3.12.8"
  }
 },
 "nbformat": 4,
 "nbformat_minor": 2
}
