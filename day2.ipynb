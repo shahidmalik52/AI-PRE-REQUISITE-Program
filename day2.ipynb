{
 "cells": [
  {
   "cell_type": "markdown",
   "metadata": {},
   "source": [
    "Type casting"
   ]
  },
  {
   "cell_type": "code",
   "execution_count": 26,
   "metadata": {},
   "outputs": [
    {
     "data": {
      "text/plain": [
       "'1'"
      ]
     },
     "execution_count": 26,
     "metadata": {},
     "output_type": "execute_result"
    }
   ],
   "source": [
    "str1 = '1'\n",
    "str1"
   ]
  },
  {
   "cell_type": "code",
   "execution_count": 27,
   "metadata": {},
   "outputs": [
    {
     "data": {
      "text/plain": [
       "'1'"
      ]
     },
     "execution_count": 27,
     "metadata": {},
     "output_type": "execute_result"
    }
   ],
   "source": [
    "# str1 : int = 1   # prints 1\n",
    "str1 : int\n",
    "str1"
   ]
  },
  {
   "cell_type": "code",
   "execution_count": 28,
   "metadata": {},
   "outputs": [
    {
     "data": {
      "text/plain": [
       "'12'"
      ]
     },
     "execution_count": 28,
     "metadata": {},
     "output_type": "execute_result"
    }
   ],
   "source": [
    "str3 = '12'\n",
    "str4 : int = str3\n",
    "str4 # its not type casting"
   ]
  },
  {
   "cell_type": "markdown",
   "metadata": {},
   "source": [
    "Type conversion"
   ]
  },
  {
   "cell_type": "code",
   "execution_count": 37,
   "metadata": {},
   "outputs": [
    {
     "data": {
      "text/plain": [
       "(True, True, False, 5.0, '5')"
      ]
     },
     "execution_count": 37,
     "metadata": {},
     "output_type": "execute_result"
    }
   ],
   "source": [
    "v1 = 5                  # integer variable\n",
    "v1_bool  = bool(v1)\n",
    "v1_bool2  = bool(-2)\n",
    "v1_bool3  = bool(0)\n",
    "v1_float = float(v1)\n",
    "v1_str = str(v1)\n",
    "v1_bool,v1_bool2,v1_bool3, v1_float, v1_str\n"
   ]
  },
  {
   "cell_type": "code",
   "execution_count": 38,
   "metadata": {},
   "outputs": [
    {
     "data": {
      "text/plain": [
       "(1, 1.0, 'True')"
      ]
     },
     "execution_count": 38,
     "metadata": {},
     "output_type": "execute_result"
    }
   ],
   "source": [
    "\n",
    "v2 = True               # boolean variable\n",
    "v2_int  = int(v2)\n",
    "v2_float = float(v2)\n",
    "v2_str = str(v2)\n",
    "v2_int, v2_float, v2_str\n",
    "\n"
   ]
  },
  {
   "cell_type": "code",
   "execution_count": 39,
   "metadata": {},
   "outputs": [
    {
     "data": {
      "text/plain": [
       "(0, 0.0, 'False')"
      ]
     },
     "execution_count": 39,
     "metadata": {},
     "output_type": "execute_result"
    }
   ],
   "source": [
    "v21 = False               # boolean variable\n",
    "v21_int  = int(v21)\n",
    "v21_float = float(v21)\n",
    "v21_str = str(v21)\n",
    "v21_int, v21_float, v21_str"
   ]
  },
  {
   "cell_type": "code",
   "execution_count": 40,
   "metadata": {},
   "outputs": [
    {
     "data": {
      "text/plain": [
       "(True, 3, '3.14')"
      ]
     },
     "execution_count": 40,
     "metadata": {},
     "output_type": "execute_result"
    }
   ],
   "source": [
    "v3 = 3.14               # float variable\n",
    "v3_bool  = bool(v3)\n",
    "v3_int = int(v3)\n",
    "v3_str = str(v3)\n",
    "v3_bool, v3_int, v3_str"
   ]
  },
  {
   "cell_type": "code",
   "execution_count": 2,
   "metadata": {},
   "outputs": [
    {
     "data": {
      "text/plain": [
       "True"
      ]
     },
     "execution_count": 2,
     "metadata": {},
     "output_type": "execute_result"
    }
   ],
   "source": [
    "v4 = \"Hello, Shahid!\"   # string variable\n",
    "v4_bool  = bool(v4)\n",
    "# v4_int = int(v4)\n",
    "# v4_float = float(v4)\n",
    "v4_bool #, v4_int, v4_float"
   ]
  },
  {
   "cell_type": "markdown",
   "metadata": {},
   "source": [
    "The string type casting to other types is not working for characters"
   ]
  },
  {
   "cell_type": "code",
   "execution_count": 1,
   "metadata": {},
   "outputs": [
    {
     "name": "stdout",
     "output_type": "stream",
     "text": [
      "My name is Shahid and i am learning Python in 2025\n"
     ]
    }
   ],
   "source": [
    "print(\"My name is Shahid and i am learning Python in 2025\")"
   ]
  },
  {
   "cell_type": "markdown",
   "metadata": {},
   "source": [
    "f-string method"
   ]
  },
  {
   "cell_type": "code",
   "execution_count": 2,
   "metadata": {},
   "outputs": [
    {
     "name": "stdout",
     "output_type": "stream",
     "text": [
      "My name is Shahid and I am learning Python in 2025\n"
     ]
    }
   ],
   "source": [
    "year = 2025\n",
    "name = \"Shahid\"\n",
    "language = \"Python\"\n",
    "print(f'My name is {name} and I am learning {language} in {year}')"
   ]
  },
  {
   "cell_type": "code",
   "execution_count": 8,
   "metadata": {},
   "outputs": [
    {
     "name": "stdout",
     "output_type": "stream",
     "text": [
      "My name is Shahid and I am learning Python in 2025\n",
      "My name is 2025 and I am learning Shahid in Python\n"
     ]
    }
   ],
   "source": [
    "# print(f'My name is {} and I am learning {} in {}'.format(name, language, year))   by mistake \"f\" was written that generated error\n",
    "print('My name is {} and I am learning {} in {}'.format(name, language, year)) \n",
    "# Return a formatted version of String, using substitutions from args. The sequence must be kept in mind\n",
    "print('My name is {} and I am learning {} in {}'.format(year, name, language )) \n"
   ]
  },
  {
   "cell_type": "markdown",
   "metadata": {},
   "source": [
    "using indexing method"
   ]
  },
  {
   "cell_type": "code",
   "execution_count": 12,
   "metadata": {},
   "outputs": [
    {
     "name": "stdout",
     "output_type": "stream",
     "text": [
      "My name is Shahid and I am learning Python in 2025\n",
      "My name is Python and I am learning Shahid in 2025\n",
      "My name is 2025 and I am learning Shahid in Python\n"
     ]
    }
   ],
   "source": [
    "print('My name is {0} and I am learning {1} in {2}'.format(name, language, year )) \n",
    "print('My name is {1} and I am learning {0} in {2}'.format(name, language, year )) \n",
    "print('My name is {0} and I am learning {1} in {2}'.format(year, name, language )) "
   ]
  },
  {
   "cell_type": "markdown",
   "metadata": {},
   "source": [
    "using name place holder"
   ]
  },
  {
   "cell_type": "code",
   "execution_count": 14,
   "metadata": {},
   "outputs": [
    {
     "name": "stdout",
     "output_type": "stream",
     "text": [
      "My name is Shahid and I am learning Python in 2025\n"
     ]
    }
   ],
   "source": [
    "print('My name is {x1} and I am learning {x2} in {x3}'.format(x1 =name , x2 = language, x3 =year )) "
   ]
  },
  {
   "cell_type": "markdown",
   "metadata": {},
   "source": [
    "User-defined values => input()"
   ]
  },
  {
   "cell_type": "code",
   "execution_count": null,
   "metadata": {},
   "outputs": [],
   "source": []
  }
 ],
 "metadata": {
  "kernelspec": {
   "display_name": "Python 3",
   "language": "python",
   "name": "python3"
  },
  "language_info": {
   "codemirror_mode": {
    "name": "ipython",
    "version": 3
   },
   "file_extension": ".py",
   "mimetype": "text/x-python",
   "name": "python",
   "nbconvert_exporter": "python",
   "pygments_lexer": "ipython3",
   "version": "3.12.8"
  }
 },
 "nbformat": 4,
 "nbformat_minor": 2
}
