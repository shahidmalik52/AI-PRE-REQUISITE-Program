{
 "cells": [
  {
   "cell_type": "markdown",
   "metadata": {},
   "source": [
    "**if statement**\n",
    "- Used to execute a block of code if a certain condition is True\n",
    "\n",
    "**Syntax**\n",
    "- if condition :\n",
    "  - statements of if body"
   ]
  },
  {
   "cell_type": "code",
   "execution_count": 1,
   "metadata": {},
   "outputs": [
    {
     "name": "stdout",
     "output_type": "stream",
     "text": [
      "y is greater!\n"
     ]
    }
   ],
   "source": [
    "x = 5\n",
    "y = 9\n",
    "if y > x:\n",
    "    print('y is greater!')"
   ]
  },
  {
   "cell_type": "code",
   "execution_count": 2,
   "metadata": {},
   "outputs": [],
   "source": [
    "x = 5\n",
    "y = 9\n",
    "if y < x:\n",
    "    print('y is greater!')      # nothing is printed because y is not less than x"
   ]
  },
  {
   "cell_type": "code",
   "execution_count": 3,
   "metadata": {},
   "outputs": [
    {
     "name": "stdout",
     "output_type": "stream",
     "text": [
      "y is less!\n"
     ]
    }
   ],
   "source": [
    "x = 5\n",
    "y = 9\n",
    "if y < x:\n",
    "    print('y is greater!')\n",
    "else:\n",
    "    print('y is less!')"
   ]
  },
  {
   "cell_type": "code",
   "execution_count": 6,
   "metadata": {},
   "outputs": [
    {
     "name": "stdout",
     "output_type": "stream",
     "text": [
      "15\n"
     ]
    }
   ],
   "source": [
    "x = 10\n",
    "y = 10\n",
    "if y > x:\n",
    "    x+=24\n",
    "    print(x)\n",
    "else:\n",
    "    x+=5\n",
    "    print(x)"
   ]
  },
  {
   "cell_type": "markdown",
   "metadata": {},
   "source": [
    "**Ternary operator**\n",
    "- It is also called comprehension, when used with list it will be called list comprehension"
   ]
  },
  {
   "cell_type": "code",
   "execution_count": null,
   "metadata": {},
   "outputs": [],
   "source": [
    "x = 10\n",
    "y = 10\n",
    "x+=24 if y<x else print('They are not equal')"
   ]
  },
  {
   "cell_type": "code",
   "execution_count": 15,
   "metadata": {},
   "outputs": [
    {
     "name": "stdout",
     "output_type": "stream",
     "text": [
      "Shahid\n"
     ]
    }
   ],
   "source": [
    "name = 'Shahid'\n",
    "check = name if name!='' else None\n",
    "print(name)"
   ]
  },
  {
   "cell_type": "code",
   "execution_count": 22,
   "metadata": {},
   "outputs": [
    {
     "name": "stdout",
     "output_type": "stream",
     "text": [
      "Wrong grade\n",
      "105\n"
     ]
    }
   ],
   "source": [
    "grade = int(input('Enter the grades: '))\n",
    "if grade > 100:\n",
    "    print('Wrong grade')\n",
    "elif grade >= 90:\n",
    "    print('A+ grade')\n",
    "elif grade >= 80:\n",
    "    print('B+ grade')\n",
    "elif grade >=70:\n",
    "    print('C+')\n",
    "else:\n",
    "    print('Fail')\n",
    "\n",
    "print(grade)"
   ]
  },
  {
   "cell_type": "markdown",
   "metadata": {},
   "source": [
    "**nested if and nested if-else**"
   ]
  },
  {
   "cell_type": "code",
   "execution_count": 24,
   "metadata": {},
   "outputs": [
    {
     "name": "stdout",
     "output_type": "stream",
     "text": [
      "x is greater\n"
     ]
    }
   ],
   "source": [
    "x = 10\n",
    "y = 8\n",
    "if x>y:\n",
    "    y+=2\n",
    "    if x!=y:\n",
    "        print('They are not equal')\n",
    "    print('x is greater')\n"
   ]
  },
  {
   "cell_type": "code",
   "execution_count": 28,
   "metadata": {},
   "outputs": [
    {
     "name": "stdout",
     "output_type": "stream",
     "text": [
      "x is greater\n"
     ]
    }
   ],
   "source": [
    "x = 10\n",
    "y = 8\n",
    "if x!=y:\n",
    "    y+=2\n",
    "    if x!=y:\n",
    "        print('They are not equal')\n",
    "    else:\n",
    "        print('x is greater')"
   ]
  },
  {
   "cell_type": "markdown",
   "metadata": {},
   "source": [
    "**Class Task**\n",
    "- x = 15\n",
    "- y = 25\n",
    "- z = 89\n",
    "- find the greatest number using if, if-else, elif"
   ]
  },
  {
   "cell_type": "markdown",
   "metadata": {},
   "source": [
    "**My logic**"
   ]
  },
  {
   "cell_type": "code",
   "execution_count": 29,
   "metadata": {},
   "outputs": [
    {
     "name": "stdout",
     "output_type": "stream",
     "text": [
      "z is greater\n"
     ]
    }
   ],
   "source": [
    "x = 15\n",
    "y = 25\n",
    "z = 89\n",
    "if x > y:\n",
    "    if x > z:\n",
    "        print('x is greater')\n",
    "elif y > z:\n",
    "    print('y is greater')\n",
    "else: \n",
    "    print('z is greater')"
   ]
  },
  {
   "cell_type": "markdown",
   "metadata": {},
   "source": [
    "**Logic of classfellow 1**"
   ]
  },
  {
   "cell_type": "code",
   "execution_count": 31,
   "metadata": {},
   "outputs": [
    {
     "name": "stdout",
     "output_type": "stream",
     "text": [
      "z is greater\n"
     ]
    }
   ],
   "source": [
    "x = 15\n",
    "y = 25\n",
    "z = 89\n",
    "if x>y:\n",
    "  if x>z:\n",
    "    print(\"x is greater\")\n",
    "  else:\n",
    "    print(\"z is greater\")\n",
    "else:\n",
    "  if y>z:\n",
    "    print(\"y is greater\")\n",
    "  else:\n",
    "    print(\"z is greater\")"
   ]
  },
  {
   "cell_type": "markdown",
   "metadata": {},
   "source": [
    "**Logic of classfellow 2**"
   ]
  },
  {
   "cell_type": "code",
   "execution_count": 32,
   "metadata": {},
   "outputs": [
    {
     "name": "stdout",
     "output_type": "stream",
     "text": [
      "The greatest value is: 89\n"
     ]
    }
   ],
   "source": [
    "x = 15\n",
    "y = 25\n",
    "z = 89\n",
    "if x > y and x > z:\n",
    "    greatest = x\n",
    "elif y > z:\n",
    "    greatest = y\n",
    "else:\n",
    "    greatest = z\n",
    "print(f\"The greatest value is: {greatest}\")"
   ]
  }
 ],
 "metadata": {
  "kernelspec": {
   "display_name": "Python 3",
   "language": "python",
   "name": "python3"
  },
  "language_info": {
   "codemirror_mode": {
    "name": "ipython",
    "version": 3
   },
   "file_extension": ".py",
   "mimetype": "text/x-python",
   "name": "python",
   "nbconvert_exporter": "python",
   "pygments_lexer": "ipython3",
   "version": "3.12.8"
  }
 },
 "nbformat": 4,
 "nbformat_minor": 2
}
