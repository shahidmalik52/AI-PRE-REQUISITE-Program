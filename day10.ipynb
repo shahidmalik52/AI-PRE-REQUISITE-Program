{
 "cells": [
  {
   "cell_type": "markdown",
   "metadata": {},
   "source": [
    "**List**\n",
    "- It is a data type that stores multiple values of different data types\n",
    "- We can only apply List operations on it"
   ]
  },
  {
   "cell_type": "code",
   "execution_count": 1,
   "metadata": {},
   "outputs": [],
   "source": [
    "name = input(\"Enter your name: \")"
   ]
  },
  {
   "cell_type": "code",
   "execution_count": 2,
   "metadata": {},
   "outputs": [
    {
     "data": {
      "text/plain": [
       "'Shahid'"
      ]
     },
     "execution_count": 2,
     "metadata": {},
     "output_type": "execute_result"
    }
   ],
   "source": [
    "name"
   ]
  },
  {
   "cell_type": "code",
   "execution_count": 3,
   "metadata": {},
   "outputs": [
    {
     "data": {
      "text/plain": [
       "['Aqsa', 12, 7.86, True]"
      ]
     },
     "execution_count": 3,
     "metadata": {},
     "output_type": "execute_result"
    }
   ],
   "source": [
    "list_1 = ['Aqsa', 12, 7.86, True]\n",
    "list_1"
   ]
  },
  {
   "cell_type": "code",
   "execution_count": 21,
   "metadata": {},
   "outputs": [
    {
     "name": "stdout",
     "output_type": "stream",
     "text": [
      "['Shahid']\n"
     ]
    }
   ],
   "source": [
    "names_list_0 = []\n",
    "name = input(\"Enter name: \")\n",
    "# add name to the list using append() method\n",
    "# append () method adds an element to the end of the list\n",
    "names_list_0.append(name)     \n",
    "print(names_list_0)     "
   ]
  },
  {
   "cell_type": "code",
   "execution_count": 22,
   "metadata": {},
   "outputs": [
    {
     "name": "stdout",
     "output_type": "stream",
     "text": [
      "['Aqsa', 'Moiz', 'Shahid', 'Mustajab', 'Afaq', 'Samina', 'Muhammad', 'Ilyas', 'Saleha', 'Minsa']\n"
     ]
    }
   ],
   "source": [
    "names_list_1 = []\n",
    "for i in range(0,10):\n",
    "    name = input(\"Enter name: \")\n",
    "    names_list_1.append(name)     \n",
    "print(names_list_1)     "
   ]
  },
  {
   "cell_type": "markdown",
   "metadata": {},
   "source": [
    "**The problem with this code is that names_list2 is an empty list,** \n",
    "\n",
    "**and you are trying to assign values using names_list2[i] = name.**\n",
    "\n",
    "**Since the list is initially empty, this will raise an IndexError**\n",
    "\n",
    "**because the list does not have any pre-allocated indices.**"
   ]
  },
  {
   "cell_type": "code",
   "execution_count": null,
   "metadata": {},
   "outputs": [],
   "source": [
    "# names_list2 = []\n",
    "# for i in range(0,10):\n",
    "#     name = input(\"Enter name: \")\n",
    "#     names_list2[i] = name     \n",
    "# print(names_list2)    \n"
   ]
  },
  {
   "cell_type": "code",
   "execution_count": 23,
   "metadata": {},
   "outputs": [],
   "source": [
    "names_list_2 = ['Aqsa2', 'Moiz2', 'Shahid2', 'Mustajab2']"
   ]
  },
  {
   "cell_type": "markdown",
   "metadata": {},
   "source": [
    "**append( ) will add the value as a single like it appended complete list at the end as a single element**"
   ]
  },
  {
   "cell_type": "code",
   "execution_count": 24,
   "metadata": {},
   "outputs": [
    {
     "data": {
      "text/plain": [
       "['Aqsa',\n",
       " 'Moiz',\n",
       " 'Shahid',\n",
       " 'Mustajab',\n",
       " 'Afaq',\n",
       " 'Samina',\n",
       " 'Muhammad',\n",
       " 'Ilyas',\n",
       " 'Saleha',\n",
       " 'Minsa',\n",
       " ['Aqsa2', 'Moiz2', 'Shahid2', 'Mustajab2']]"
      ]
     },
     "execution_count": 24,
     "metadata": {},
     "output_type": "execute_result"
    }
   ],
   "source": [
    "names_list_1.append(names_list_2)\n",
    "names_list_1"
   ]
  },
  {
   "cell_type": "markdown",
   "metadata": {},
   "source": [
    "**extend( ) will add the values individually at the end of list**"
   ]
  },
  {
   "cell_type": "code",
   "execution_count": 25,
   "metadata": {},
   "outputs": [
    {
     "data": {
      "text/plain": [
       "['Aqsa',\n",
       " 'Moiz',\n",
       " 'Shahid',\n",
       " 'Mustajab',\n",
       " 'Afaq',\n",
       " 'Samina',\n",
       " 'Muhammad',\n",
       " 'Ilyas',\n",
       " 'Saleha',\n",
       " 'Minsa',\n",
       " ['Aqsa2', 'Moiz2', 'Shahid2', 'Mustajab2'],\n",
       " 'Aqsa2',\n",
       " 'Moiz2',\n",
       " 'Shahid2',\n",
       " 'Mustajab2']"
      ]
     },
     "execution_count": 25,
     "metadata": {},
     "output_type": "execute_result"
    }
   ],
   "source": [
    "names_list_1.extend(names_list_2)\n",
    "names_list_1"
   ]
  },
  {
   "cell_type": "code",
   "execution_count": 26,
   "metadata": {},
   "outputs": [
    {
     "data": {
      "text/plain": [
       "['h', 'e', 'l', 'l', 'o']"
      ]
     },
     "execution_count": 26,
     "metadata": {},
     "output_type": "execute_result"
    }
   ],
   "source": [
    "'hello'\n",
    "list('hello')"
   ]
  },
  {
   "cell_type": "code",
   "execution_count": 29,
   "metadata": {},
   "outputs": [
    {
     "data": {
      "text/plain": [
       "['h', 'e', 'l', 'r', 'o']"
      ]
     },
     "execution_count": 29,
     "metadata": {},
     "output_type": "execute_result"
    }
   ],
   "source": [
    "names_list_4 = list('hello')\n",
    "names_list_4[3] = 'r'\n",
    "names_list_4"
   ]
  },
  {
   "cell_type": "markdown",
   "metadata": {},
   "source": [
    "**The given code will generate error because strings are immutable**"
   ]
  },
  {
   "cell_type": "code",
   "execution_count": null,
   "metadata": {},
   "outputs": [],
   "source": [
    "names_ = 'hello'\n",
    "names_[3] = 'r'\n",
    "names_"
   ]
  },
  {
   "cell_type": "code",
   "execution_count": 31,
   "metadata": {},
   "outputs": [
    {
     "data": {
      "text/plain": [
       "['Aqsa',\n",
       " 'Moiz',\n",
       " 'Somia',\n",
       " 'Shahid',\n",
       " 'Mustajab',\n",
       " 'Afaq',\n",
       " 'Samina',\n",
       " 'Muhammad',\n",
       " 'Ilyas',\n",
       " 'Saleha',\n",
       " 'Minsa',\n",
       " ['Aqsa2', 'Moiz2', 'Shahid2', 'Mustajab2'],\n",
       " 'Aqsa2',\n",
       " 'Moiz2',\n",
       " 'Shahid2',\n",
       " 'Mustajab2']"
      ]
     },
     "execution_count": 31,
     "metadata": {},
     "output_type": "execute_result"
    }
   ],
   "source": [
    "names_list_1.insert(2, \"Somia\")\n",
    "names_list_1"
   ]
  },
  {
   "cell_type": "markdown",
   "metadata": {},
   "source": [
    "**Class task to find the min and max value from the given list**"
   ]
  },
  {
   "cell_type": "code",
   "execution_count": 33,
   "metadata": {},
   "outputs": [
    {
     "name": "stdout",
     "output_type": "stream",
     "text": [
      "1\n",
      "9\n"
     ]
    }
   ],
   "source": [
    "numbers = [3, 7, 1, 9, 4]\n",
    "print(min(numbers))\n",
    "print(max(numbers))"
   ]
  },
  {
   "cell_type": "code",
   "execution_count": 1,
   "metadata": {},
   "outputs": [
    {
     "data": {
      "text/plain": [
       "'Class 10'"
      ]
     },
     "execution_count": 1,
     "metadata": {},
     "output_type": "execute_result"
    }
   ],
   "source": [
    "str = 'Class 10'\n",
    "str"
   ]
  },
  {
   "cell_type": "code",
   "execution_count": null,
   "metadata": {},
   "outputs": [],
   "source": [
    "print(str.extend('U'))\n",
    "print(str.append('U'))\n",
    "print(str.update('U'))"
   ]
  },
  {
   "cell_type": "markdown",
   "metadata": {},
   "source": [
    "**Try list slicing**"
   ]
  }
 ],
 "metadata": {
  "kernelspec": {
   "display_name": "Python 3",
   "language": "python",
   "name": "python3"
  },
  "language_info": {
   "codemirror_mode": {
    "name": "ipython",
    "version": 3
   },
   "file_extension": ".py",
   "mimetype": "text/x-python",
   "name": "python",
   "nbconvert_exporter": "python",
   "pygments_lexer": "ipython3",
   "version": "3.12.8"
  }
 },
 "nbformat": 4,
 "nbformat_minor": 2
}
